{
 "cells": [
  {
   "cell_type": "markdown",
   "metadata": {},
   "source": [
    "## Overview\n",
    "\n",
    "### Mathematical Part\n",
    "\n",
    "The given Objective Function is given by two Parts namely by\n",
    "\n",
    "$$ 0.5 * ||Mx - y||_2 $$\n",
    "\n",
    "this. Which is a smooth function and can be prefectly derivatianted.\n",
    "Instead of adding constraints to the Problem, the idea was to add a second term which is non smooth. This term was given by\n",
    "\n",
    "$$ \\tau * ||x||_1 $$\n",
    "\n",
    "Those two terms are simply added together to make the complete Objective, which is then written as \n",
    "\n",
    "$$ f(M, x, y, \\tau) =  0.5 * ||Mx - y||_2 +  \\tau * ||x||_1 $$\n",
    "\n",
    "I should also state the properties of the different variables:\n",
    "\n",
    "- $M$ is defined as a Matrix with $m$ rows and $n = 2m$ rows \n",
    "- $y$ is defined as a vector $y \\in \\mathbb{R}^{m}$\n",
    "- $\\tau$ is defined as $\\tau > 0$\n",
    "- $x$ is defined as $y \\in \\mathbb{R}^{n}$\n",
    "\n",
    "For the Forward Backward method we need the Gradient, in this case with respect to x. The easy Part about calculating this gradient is that we can compute it in to parts.\n",
    "The first part $ 0.5 * ||Mx - y||_2 $ and the second part $ \\tau * ||x||_1 $.\n",
    "\n",
    "The Gradient for the first Part looks like this \n",
    "\n",
    "$$ \\frac{1}{2} * M^T * \\frac{Mx - y}{|| Mx - y||_2}$$\n",
    "\n",
    "and for the second Part it looks the following way\n",
    "\n",
    "$$ \\tau * \\frac{1}{||x||_1} $$\n",
    "\n",
    "In combined the Gradient will look like this:\n",
    "\n",
    "$$ \\nabla f(M, x, y, \\tau) =  \\frac{1}{2} * M^T * \\frac{Mx - y}{|| Mx - y||_2} + \\tau * \\frac{1}{||x||_1} $$\n",
    "\n",
    "\n",
    "![image](Gradient.png)\n",
    "\n",
    "*// this is the result of **plot_gradient.py***\n"
   ]
  }
 ],
 "metadata": {
  "language_info": {
   "name": "python"
  },
  "orig_nbformat": 4
 },
 "nbformat": 4,
 "nbformat_minor": 2
}
