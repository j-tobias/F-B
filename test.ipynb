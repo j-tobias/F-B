{
 "cells": [
  {
   "cell_type": "code",
   "execution_count": 1,
   "metadata": {},
   "outputs": [],
   "source": [
    "import numpy as np\n",
    "import tensorflow as tf\n",
    "\n",
    "\n",
    "from ForwardBackward import FB_splitting\n",
    "from Problems import *\n",
    "from gradient import Objective as Objective"
   ]
  },
  {
   "cell_type": "code",
   "execution_count": 32,
   "metadata": {},
   "outputs": [
    {
     "name": "stdout",
     "output_type": "stream",
     "text": [
      "____________________________________________________________\n",
      "Problem size:  (1, 2)\n",
      "\n",
      "Starting point:  [1.643, -8.117]\n",
      "Final Point:     [-0.714, -0.009]\n",
      "\n",
      "Objective value at starting point:  40.825\n",
      "Objective value at final point:     2.2\n",
      "\n",
      "Required Num Steps:  2000\n"
     ]
    }
   ],
   "source": [
    "problem = generate_problem(1, 2)\n",
    "M = problem.M\n",
    "y = problem.y\n",
    "x = problem.sp1\n",
    "#tau = 0.16\n",
    "tau = 3\n",
    "stepsize = 0.01\n",
    "\n",
    "objective = Objective(M, x, y, tau)\n",
    "\n",
    "\n",
    "#Solve the Problem\n",
    "fb = FB_splitting(M,y,x,tau, stepsize)\n",
    "solution, steps = fb.solve(2000)\n",
    "\n",
    "\n",
    "\n",
    "end = Objective(M, solution, y, tau)\n",
    "start = Objective(M, x, y, tau)\n",
    "print(30*\"__\")\n",
    "print(\"Problem size: \", M.shape)\n",
    "print(\"\\nStarting point: \", [np.round(_, 3) for _ in x])\n",
    "print('Final Point:    ', [np.round(_, 3) for _ in solution])\n",
    "print('\\nObjective value at starting point: ', np.round(start, decimals=3))\n",
    "print('Objective value at final point:    ', np.round(end,   decimals=3))\n",
    "print(\"\\nRequired Num Steps: \", len(steps))\n"
   ]
  }
 ],
 "metadata": {
  "kernelspec": {
   "display_name": "Python 3",
   "language": "python",
   "name": "python3"
  },
  "language_info": {
   "codemirror_mode": {
    "name": "ipython",
    "version": 3
   },
   "file_extension": ".py",
   "mimetype": "text/x-python",
   "name": "python",
   "nbconvert_exporter": "python",
   "pygments_lexer": "ipython3",
   "version": "3.11.1"
  },
  "orig_nbformat": 4
 },
 "nbformat": 4,
 "nbformat_minor": 2
}
