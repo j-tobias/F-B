{
 "cells": [
  {
   "cell_type": "code",
   "execution_count": 1,
   "metadata": {},
   "outputs": [],
   "source": [
    "import numpy as np\n",
    "import tensorflow as tf\n",
    "\n",
    "\n",
    "from ForwardBackward import FB_splitting\n",
    "from Problems import *\n",
    "from gradient import Objective as Objective"
   ]
  },
  {
   "cell_type": "code",
   "execution_count": 8,
   "metadata": {},
   "outputs": [
    {
     "data": {
      "text/plain": [
       "(array([ 8.34163225e+147,  3.44118490e+155,  5.91603127e+151,\n",
       "         6.91177554e-003,  1.96292550e-003,  6.40162681e-003,\n",
       "        -1.41215230e+000,  2.23030644e+155]),\n",
       " inf,\n",
       " 247.49837474943885,\n",
       " 12085)"
      ]
     },
     "execution_count": 8,
     "metadata": {},
     "output_type": "execute_result"
    }
   ],
   "source": [
    "problem = generate_problem(4, 8)\n",
    "M = problem.M\n",
    "y = problem.y\n",
    "x = problem.sp1\n",
    "#tau = 0.16\n",
    "tau = 3\n",
    "stepsize = 0.01\n",
    "\n",
    "objective = Objective(M, x, y, tau)\n",
    "\n",
    "\n",
    "#Solve the Problem\n",
    "fb = FB_splitting(M,y,x,tau, stepsize)\n",
    "solution, steps = fb.solve(20000)\n",
    "\n",
    "solution = steps[-4]\n",
    "#plot_objective(samples, steps, M, y, tau).show()\n",
    "end = Objective(M, solution, y, tau)\n",
    "start = Objective(M, x, y, tau)\n",
    "solution, end, start, len(steps)\n"
   ]
  }
 ],
 "metadata": {
  "kernelspec": {
   "display_name": "Python 3",
   "language": "python",
   "name": "python3"
  },
  "language_info": {
   "codemirror_mode": {
    "name": "ipython",
    "version": 3
   },
   "file_extension": ".py",
   "mimetype": "text/x-python",
   "name": "python",
   "nbconvert_exporter": "python",
   "pygments_lexer": "ipython3",
   "version": "3.11.1"
  },
  "orig_nbformat": 4
 },
 "nbformat": 4,
 "nbformat_minor": 2
}
